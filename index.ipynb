{
 "cells": [
  {
   "cell_type": "markdown",
   "metadata": {},
   "source": [
    "# Setup"
   ]
  },
  {
   "cell_type": "code",
   "execution_count": 24,
   "metadata": {
    "tags": []
   },
   "outputs": [],
   "source": [
    "import transformers\n",
    "from pathlib import Path\n",
    "\n",
    "# Directory of the loaded models\n",
    "MODEL_DIR = Path(\"models\")\n",
    "\n",
    "# Set seed for reproducibility\n",
    "transformers.set_seed(0)"
   ]
  },
  {
   "cell_type": "code",
   "execution_count": 25,
   "metadata": {},
   "outputs": [],
   "source": [
    "# Load tokenizer and model\n",
    "def load_model(model_name):\n",
    "    tokenizer = transformers.AutoTokenizer.from_pretrained(MODEL_DIR.joinpath(model_name), local_files_only=True)\n",
    "    model = transformers.AutoModelForCausalLM.from_pretrained(MODEL_DIR.joinpath(model_name), local_files_only=True)\n",
    "    return tokenizer, model"
   ]
  },
  {
   "cell_type": "code",
   "execution_count": 26,
   "metadata": {
    "tags": []
   },
   "outputs": [],
   "source": [
    "def generate_text(tokenizer, model, prompt, output_length=20):\n",
    "    # Encode the prompt text\n",
    "    input_ids = tokenizer.encode(prompt, return_tensors=\"pt\")\n",
    "    max_length = len(input_ids[0]) + output_length\n",
    "\n",
    "    # Generate a sequence of text\n",
    "    output_ids = model.generate(input_ids, max_length=max_length, pad_token_id=tokenizer.eos_token_id)\n",
    "\n",
    "\n",
    "    # Decode the generated sequence and return it\n",
    "    return tokenizer.decode(output_ids[0], skip_special_tokens=True)\n"
   ]
  },
  {
   "cell_type": "markdown",
   "metadata": {},
   "source": [
    "# Testing"
   ]
  },
  {
   "cell_type": "markdown",
   "metadata": {},
   "source": [
    "## GPT2"
   ]
  },
  {
   "cell_type": "code",
   "execution_count": 27,
   "metadata": {},
   "outputs": [
    {
     "name": "stdout",
     "output_type": "stream",
     "text": [
      "Usage: 486.7 MB\n"
     ]
    }
   ],
   "source": [
    "model_name = \"gpt2\"\n",
    "tokenizer, model = load_model(model_name)\n",
    "print(\"Usage:\", round(model.get_memory_footprint()/1024**2,1), \"MB\")"
   ]
  },
  {
   "cell_type": "code",
   "execution_count": 28,
   "metadata": {
    "tags": []
   },
   "outputs": [
    {
     "name": "stdout",
     "output_type": "stream",
     "text": [
      "What is the meaning of life?\n",
      "\n",
      "The meaning of life is that we are living in a world that is not ours.\n",
      "\n",
      "CPU times: user 413 ms, sys: 91.8 ms, total: 505 ms\n",
      "Wall time: 721 ms\n"
     ]
    }
   ],
   "source": [
    "%%time\n",
    "prompt = \"What is the meaning of life?\"\n",
    "generate_text(tokenizer, model, prompt)"
   ]
  },
  {
   "cell_type": "markdown",
   "metadata": {},
   "source": [
    "## OPT"
   ]
  },
  {
   "cell_type": "code",
   "execution_count": 29,
   "metadata": {},
   "outputs": [
    {
     "name": "stdout",
     "output_type": "stream",
     "text": [
      "Usage: 477.8 MB\n"
     ]
    }
   ],
   "source": [
    "model_name = \"facebook/opt-125m\"\n",
    "tokenizer, model = load_model(model_name)\n",
    "print(\"Usage:\", round(model.get_memory_footprint()/1024**2,1), \"MB\")"
   ]
  },
  {
   "cell_type": "code",
   "execution_count": 30,
   "metadata": {},
   "outputs": [
    {
     "name": "stdout",
     "output_type": "stream",
     "text": [
      "What is the meaning of life?\n",
      "\n",
      "Life is a process. It is a process that is not a linear process. It is\n",
      "CPU times: user 491 ms, sys: 80.9 ms, total: 572 ms\n",
      "Wall time: 741 ms\n"
     ]
    }
   ],
   "source": [
    "%%time\n",
    "prompt = \"What is the meaning of life?\"\n",
    "generate_text(tokenizer, model, prompt)"
   ]
  },
  {
   "cell_type": "markdown",
   "metadata": {},
   "source": [
    "## Pythia"
   ]
  },
  {
   "cell_type": "code",
   "execution_count": 31,
   "metadata": {},
   "outputs": [
    {
     "name": "stdout",
     "output_type": "stream",
     "text": [
      "Usage: 292.7 MB\n"
     ]
    }
   ],
   "source": [
    "model_name = \"EleutherAI/pythia-70m\"\n",
    "tokenizer, model = load_model(model_name)\n",
    "print(\"Usage:\", round(model.get_memory_footprint()/1024**2,1), \"MB\")"
   ]
  },
  {
   "cell_type": "code",
   "execution_count": 32,
   "metadata": {},
   "outputs": [
    {
     "name": "stdout",
     "output_type": "stream",
     "text": [
      "What is the meaning of life?\n",
      "\n",
      "The meaning of life is not a question of life, but a question of life. It\n",
      "CPU times: user 142 ms, sys: 21.6 ms, total: 164 ms\n",
      "Wall time: 168 ms\n"
     ]
    }
   ],
   "source": [
    "%%time\n",
    "prompt = \"What is the meaning of life?\"\n",
    "generate_text(tokenizer, model, prompt)"
   ]
  }
 ],
 "metadata": {
  "kernelspec": {
   "display_name": "Python 3 (ipykernel)",
   "language": "python",
   "name": "python3"
  },
  "language_info": {
   "codemirror_mode": {
    "name": "ipython",
    "version": 3
   },
   "file_extension": ".py",
   "mimetype": "text/x-python",
   "name": "python",
   "nbconvert_exporter": "python",
   "pygments_lexer": "ipython3",
   "version": "3.10.6"
  }
 },
 "nbformat": 4,
 "nbformat_minor": 4
}
