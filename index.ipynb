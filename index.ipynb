{
 "cells": [
  {
   "cell_type": "raw",
   "metadata": {},
   "source": [
    "---\n",
    "title: Minimal Example of Tutorial in Jupyter Notebook running GPT2\n",
    "author: Tobias Holtdirk\n",
    "---"
   ]
  },
  {
   "cell_type": "markdown",
   "metadata": {},
   "source": [
    "# Minimal Example of Tutorial in Jupyter Notebook running GPT2\n",
    "\n",
    "This is a minimal example of a Jupyter Notebook running GPT2 (and two other language models)."
   ]
  },
  {
   "cell_type": "markdown",
   "metadata": {},
   "source": [
    "## Setup"
   ]
  },
  {
   "cell_type": "code",
   "execution_count": 1,
   "metadata": {
    "tags": []
   },
   "outputs": [],
   "source": [
    "import transformers\n",
    "from pathlib import Path\n",
    "\n",
    "# Directory of the loaded models\n",
    "MODEL_DIR = Path(\"models\")\n",
    "\n",
    "# Set seed for reproducibility\n",
    "transformers.set_seed(0)"
   ]
  },
  {
   "cell_type": "markdown",
   "metadata": {},
   "source": [
    "Function to load the tokenizer and model given a model name."
   ]
  },
  {
   "cell_type": "code",
   "execution_count": 2,
   "metadata": {
    "tags": []
   },
   "outputs": [],
   "source": [
    "def load_model(model_name):\n",
    "    model_path = MODEL_DIR.joinpath(model_name)\n",
    "    tokenizer = transformers.AutoTokenizer.from_pretrained(model_path, local_files_only=True)\n",
    "    model = transformers.AutoModelForCausalLM.from_pretrained(model_path, local_files_only=True)\n",
    "    return tokenizer, model"
   ]
  },
  {
   "cell_type": "markdown",
   "metadata": {},
   "source": [
    "Function to generate text given a tokenizer, a model, and prompt text. The output lenth defaults to 20."
   ]
  },
  {
   "cell_type": "code",
   "execution_count": 3,
   "metadata": {
    "tags": []
   },
   "outputs": [],
   "source": [
    "def generate_text(tokenizer, model, prompt, output_length=20):\n",
    "    # Encode the prompt text\n",
    "    input_ids = tokenizer.encode(prompt, return_tensors=\"pt\")\n",
    "    max_length = len(input_ids[0]) + output_length\n",
    "\n",
    "    # Generate a sequence of text\n",
    "    output_ids = model.generate(input_ids, max_length=max_length, pad_token_id=tokenizer.eos_token_id)\n",
    "\n",
    "    # Decode the generated sequence and return it\n",
    "    return tokenizer.decode(output_ids[0], skip_special_tokens=True)"
   ]
  },
  {
   "cell_type": "markdown",
   "metadata": {},
   "source": [
    "## Testing\n",
    "\n",
    "In the following, we use three language models to test text generate. The three models are pre-downloaded using `download_models.py`.\n",
    "Note despite the small model sizes it can be slow when running on CPU (e.g. on mybinder.org)."
   ]
  },
  {
   "cell_type": "markdown",
   "metadata": {},
   "source": [
    "### GPT2"
   ]
  },
  {
   "cell_type": "code",
   "execution_count": 4,
   "metadata": {
    "tags": []
   },
   "outputs": [
    {
     "name": "stdout",
     "output_type": "stream",
     "text": [
      "Usage: 486.7 MB\n"
     ]
    }
   ],
   "source": [
    "model_name = \"gpt2\" # 137M parameters\n",
    "tokenizer, model = load_model(model_name)\n",
    "print(\"Usage:\", round(model.get_memory_footprint()/1024**2,1), \"MB\")"
   ]
  },
  {
   "cell_type": "code",
   "execution_count": 5,
   "metadata": {
    "tags": []
   },
   "outputs": [
    {
     "name": "stdout",
     "output_type": "stream",
     "text": [
      "What is the meaning of life?\n",
      "\n",
      "The meaning of life is that we are living in a world that is not ours.\n",
      "\n",
      "CPU times: user 2.59 s, sys: 21.6 ms, total: 2.61 s\n",
      "Wall time: 450 ms\n"
     ]
    }
   ],
   "source": [
    "%%time\n",
    "prompt = \"What is the meaning of life?\"\n",
    "print(generate_text(tokenizer, model, prompt))"
   ]
  },
  {
   "cell_type": "markdown",
   "metadata": {},
   "source": [
    "### OPT"
   ]
  },
  {
   "cell_type": "code",
   "execution_count": 6,
   "metadata": {
    "tags": []
   },
   "outputs": [
    {
     "name": "stdout",
     "output_type": "stream",
     "text": [
      "Usage: 477.8 MB\n"
     ]
    }
   ],
   "source": [
    "model_name = \"facebook/opt-125m\"\n",
    "tokenizer, model = load_model(model_name)\n",
    "print(\"Usage:\", round(model.get_memory_footprint()/1024**2,1), \"MB\")"
   ]
  },
  {
   "cell_type": "code",
   "execution_count": 7,
   "metadata": {
    "tags": []
   },
   "outputs": [
    {
     "name": "stdout",
     "output_type": "stream",
     "text": [
      "What is the meaning of life?\n",
      "\n",
      "Life is a process. It is a process that is not a linear process. It is\n",
      "CPU times: user 2.14 s, sys: 2.94 ms, total: 2.14 s\n",
      "Wall time: 362 ms\n"
     ]
    }
   ],
   "source": [
    "%%time\n",
    "prompt = \"What is the meaning of life?\"\n",
    "print(generate_text(tokenizer, model, prompt))"
   ]
  },
  {
   "cell_type": "markdown",
   "metadata": {},
   "source": [
    "### Pythia"
   ]
  },
  {
   "cell_type": "code",
   "execution_count": 8,
   "metadata": {
    "tags": []
   },
   "outputs": [
    {
     "name": "stderr",
     "output_type": "stream",
     "text": [
      "Special tokens have been added in the vocabulary, make sure the associated word embeddings are fine-tuned or trained.\n"
     ]
    },
    {
     "name": "stdout",
     "output_type": "stream",
     "text": [
      "Usage: 294.2 MB\n"
     ]
    }
   ],
   "source": [
    "model_name = \"EleutherAI/pythia-70m\"\n",
    "tokenizer, model = load_model(model_name)\n",
    "print(\"Usage:\", round(model.get_memory_footprint()/1024**2,1), \"MB\")"
   ]
  },
  {
   "cell_type": "code",
   "execution_count": 9,
   "metadata": {
    "tags": []
   },
   "outputs": [
    {
     "name": "stdout",
     "output_type": "stream",
     "text": [
      "What is the meaning of life?\n",
      "\n",
      "The meaning of life is not a question of life, but a question of life. It\n",
      "CPU times: user 1.04 s, sys: 0 ns, total: 1.04 s\n",
      "Wall time: 180 ms\n"
     ]
    }
   ],
   "source": [
    "%%time\n",
    "prompt = \"What is the meaning of life?\"\n",
    "print(generate_text(tokenizer, model, prompt))"
   ]
  }
 ],
 "metadata": {
  "kernelspec": {
   "display_name": "Python 3 (ipykernel)",
   "language": "python",
   "name": "python3"
  },
  "language_info": {
   "codemirror_mode": {
    "name": "ipython",
    "version": 3
   },
   "file_extension": ".py",
   "mimetype": "text/x-python",
   "name": "python",
   "nbconvert_exporter": "python",
   "pygments_lexer": "ipython3",
   "version": "3.10.12"
  }
 },
 "nbformat": 4,
 "nbformat_minor": 4
}
